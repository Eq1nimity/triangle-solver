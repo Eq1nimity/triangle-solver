{
 "cells": [
  {
   "cell_type": "markdown",
   "metadata": {},
   "source": [
    "# 6.2 Law of Sines\n",
    "\n",
    "## Definition\n",
    "\n",
    "Oblique $\\triangle \\equiv$ Contains no right angles. \n",
    "\n",
    "Solving a $\\triangle \\equiv$ Finding the measure of all sidelengths and angles. \n",
    "\n",
    "## Notation\n",
    "\n",
    "We use same notation as right triangles. (Standard ABC for Angles, abc for opposite sidelengths to letter corresponding angles.)\n",
    "\n",
    "## Pre-requisit Recollection\n",
    "\n",
    "Assuming $\\mathbb{R}^2$:\n",
    "\n",
    "1. The following produce congruent trianges. \n",
    "    - ASA, AAS, SAS, SSS\n",
    "    \n",
    "$\\implies$ That there is only 1 triangle for the given information. \n",
    "    \n",
    "2. The following case is ambigous with three outcomes:\n",
    "    - SSA\n",
    "        1. There are no congruent triangles.\n",
    "        2. There is one congruent triange. \n",
    "        3. There are two congruent trianges. \n",
    "\n",
    "## When to use the Laws.  \n",
    "\n",
    "The law of sines is used for: \n",
    "    - AAS or ASA\n",
    "    - SSA\n",
    "    \n",
    "The law of cosines is used for:\n",
    "    - SAS\n",
    "    - SSS\n",
    "\n",
    "\n",
    "## Law of Sines\n",
    "\n",
    "To find angles: $\\frac{\\sin A}{a} = \\frac{\\sin B}{b} = \\frac{\\sin C}{c}$\n",
    "\n",
    "To find sidelengths: $\\frac{a}{\\sin A} = \\frac{b}{\\sin B} = \\frac{c}{\\sin C}$\n",
    "\n",
    "\n",
    "## Q: Where does Law of Sines come from? \n",
    "\n",
    "1. Observe: Acute Triangle ABC | C is the top angle, and angles A, B are the base angles. \n",
    "\n",
    "    - If one drops an altitude bisection from angle C to the line AB, to form two right triangles, then: \n",
    "\n",
    "    $\\sin A = \\frac{h}{b} \\implies h = b\\sin A $\n",
    "\n",
    "    $\\sin B = \\frac{h}{a} \\implies h = a\\sin B $\n",
    "    \n",
    "    $\\implies b\\sin A = a \\sin B $\n",
    "\n",
    "    $\\implies \\frac{\\sin A}{b} = \\frac{\\sin B}{b} $ \n",
    "    \n",
    "    \n",
    "2. Observe: Obtuse Triangle ABC | C is the top angle, and angles A, B are the base angles. \n",
    "\n",
    "    - This time, the altitude drop from angle C does not bisect the prexisting triangle. It drops outside of the angle C, to form a new, smaller triangle exterior to the triangle ABC. The external triangle has a right angle R, and forms the triangle C2, R, A2. \n",
    "    \n",
    "    $ \\sin B = \\frac{h}{a} \\implies h = a \\sin B $\n",
    "    \n",
    "    $ A_2 = (180\\deg - A_1) $\n",
    "    \n",
    "    $ \\sin A_2 = \\frac{h}{b} \\implies h = b \\sin A_2 $\n",
    "    \n",
    "    $ \\implies h = b \\sin A $ "
   ]
  },
  {
   "cell_type": "markdown",
   "metadata": {},
   "source": [
    "# 6.2 HW"
   ]
  },
  {
   "cell_type": "markdown",
   "metadata": {},
   "source": [
    "## 12. Solve the SSA triangle. \n",
    "Indicate whether the given measurements result in no​ triangle, one​ triangle, or two triangles. Solve each resulting triangle. Round each answer to the nearest tenth.\n",
    "\n",
    "$ B = 45\\deg \\\\ b = 35 \\\\ c = 40 $ "
   ]
  },
  {
   "cell_type": "code",
   "execution_count": 63,
   "metadata": {
    "collapsed": true
   },
   "outputs": [],
   "source": [
    "B = 45 #deg\n",
    "b = 35\n",
    "c = 40"
   ]
  },
  {
   "cell_type": "markdown",
   "metadata": {},
   "source": [
    "### Precursory Analysis \n",
    "\n",
    "Since this is SSA, it is congruently ambiguous. That means that there may be none, one, or two trianlges. \n",
    "\n",
    "$ h = c \\sin B \\\\\\implies h = 40 \\sin 45\\deg \\approx 28$\n",
    "\n",
    "$ \\implies h < b < c $\n",
    "\n",
    "$ \\implies 2 \\triangle s $"
   ]
  },
  {
   "cell_type": "markdown",
   "metadata": {},
   "source": [
    "### Find angle C_1\n",
    "\n",
    "$ \\frac{\\sin c}{c} = \\frac{\\sin B}{b} \\implies \\sin C = \\frac{c\\sin B}{b} \\\\ \\implies C = arcsin(\\frac{c\\sin B}{b} ) $"
   ]
  },
  {
   "cell_type": "code",
   "execution_count": 64,
   "metadata": {
    "scrolled": true
   },
   "outputs": [
    {
     "name": "stdout",
     "output_type": "stream",
     "text": [
      "Sin_B = 0.707106781187\n",
      "Sin_C_1 = 0.808122035642\n",
      "C_1 = 46.3019819738\n"
     ]
    }
   ],
   "source": [
    "import numpy as np \n",
    "\n",
    "# Find sin B.\n",
    "Sin_B = np.sin(B * np.pi / 180)\n",
    "print(\"Sin_B =\", Sin_B)\n",
    "\n",
    "# Find sin C.\n",
    "Sin_C_1 = c * Sin_B / b\n",
    "print(\"Sin_C_1 =\", Sin_C)\n",
    "\n",
    "# Find angle C.\n",
    "C_1_rad = np.arcsin(Sin_C) # Note: output in in rad. \n",
    "\n",
    "# Convert rad to deg\n",
    "C_1 = np.rad2deg(Sin_C) #deg\n",
    "print(\"C_1 =\", C)\n"
   ]
  },
  {
   "cell_type": "markdown",
   "metadata": {},
   "source": [
    "### Find angle C_2\n",
    "\n",
    "$ C_2 = 180 - C_1 $"
   ]
  },
  {
   "cell_type": "code",
   "execution_count": 65,
   "metadata": {},
   "outputs": [
    {
     "name": "stdout",
     "output_type": "stream",
     "text": [
      "C_2 = 133.698018026\n"
     ]
    }
   ],
   "source": [
    "C_2 = 180 - C_1\n",
    "print(\"C_2 =\", C_2)"
   ]
  },
  {
   "cell_type": "markdown",
   "metadata": {},
   "source": [
    "### Find angle A_1\n",
    "\n",
    "$ A_1 = 180 - B - C_1 $"
   ]
  },
  {
   "cell_type": "code",
   "execution_count": 66,
   "metadata": {},
   "outputs": [
    {
     "name": "stdout",
     "output_type": "stream",
     "text": [
      "A_1 = 88.6980180262\n"
     ]
    }
   ],
   "source": [
    "A_1 = 180 - B - C_1\n",
    "print(\"A_1 =\", A_1)"
   ]
  },
  {
   "cell_type": "markdown",
   "metadata": {},
   "source": [
    "### Find angle A_2\n",
    "\n",
    "$ A_2 = 180 - B - C_2$"
   ]
  },
  {
   "cell_type": "code",
   "execution_count": 67,
   "metadata": {},
   "outputs": [
    {
     "name": "stdout",
     "output_type": "stream",
     "text": [
      "A_2 = 1.30198197379\n"
     ]
    }
   ],
   "source": [
    "A_2 = 180 - B - C_2\n",
    "print(\"A_2 =\", A_2)"
   ]
  },
  {
   "cell_type": "markdown",
   "metadata": {},
   "source": [
    "### Find the Sides"
   ]
  },
  {
   "cell_type": "code",
   "execution_count": 68,
   "metadata": {},
   "outputs": [
    {
     "name": "stdout",
     "output_type": "stream",
     "text": [
      "Triangle 1: \n",
      " A_1 = 88.69801802620597, C_1 = 46.30198197379403 \n",
      "\n",
      "Triangle 2: \n",
      " A_2 = 1.3019819737940281, C_2 = 133.69801802620597\n"
     ]
    }
   ],
   "source": [
    "# We Have Solved the angles for both triangles as follows. \n",
    "\n",
    "# Triangle 1: Acute\n",
    "print(\"Triangle 1: \\n A_1 = {}, C_1 = {} \\n\".format(A_1, C_1))\n",
    "\n",
    "# Triangle 2: Obtuse\n",
    "print(\"Triangle 2: \\n A_2 = {}, C_2 = {}\".format(A_2, C_2))"
   ]
  },
  {
   "cell_type": "markdown",
   "metadata": {},
   "source": [
    "#### To find the missing side: \n",
    "\n",
    "Triangle 1: Acute\n",
    "\n",
    "$ \\frac{a_1}{\\sin A_1} = \\frac{b}{\\sin b} \\\\ \\implies a_1 = \\frac{b \\sin A_1}{\\sin B} $\n",
    "\n",
    "Triangle 2: Obtuse\n",
    "\n",
    "$ \\frac{a_2}{\\sin A_2} = \\frac{b}{\\sin b} \\\\ \\implies a_2 = \\frac{b \\sin A_2}{\\sin B} $"
   ]
  },
  {
   "cell_type": "code",
   "execution_count": 69,
   "metadata": {},
   "outputs": [
    {
     "name": "stdout",
     "output_type": "stream",
     "text": [
      "a_1 = 34.9909638374\n",
      "a_2 = 0.795267081838\n"
     ]
    }
   ],
   "source": [
    "a_1 = b * np.sin(A_1 * np.pi / 180) #input must be in rad. \n",
    "print(\"a_1 =\", a_1)\n",
    "\n",
    "a_2 = b * np.sin(A_2 * np.pi /180)\n",
    "print(\"a_2 =\", a_2)"
   ]
  },
  {
   "cell_type": "code",
   "execution_count": 76,
   "metadata": {},
   "outputs": [
    {
     "name": "stdout",
     "output_type": "stream",
     "text": [
      "T1 Acute: A = 88.69801802620597, B = 45, C = 46.30198197379403, \n",
      "          a = 34.99096383737586, b = 35, c = 40\n",
      "T2 Obtuse: A = 1.3019819737940281, B = 45, C = 133.69801802620597, \n",
      "           a = 0.7952670818380554, b = 35, c = 40\n"
     ]
    }
   ],
   "source": [
    "# Completed trianges have the following values: \n",
    "\n",
    "# T1: Acute\n",
    "print(\"T1 Acute: A = {}, B = {}, C = {}, \\n \\\n",
    "         a = {}, b = {}, c = {}\".format(A_1, B, C_1, a_1, b, c))\n",
    "\n",
    "print(\"T2 Obtuse: A = {}, B = {}, C = {}, \\n \\\n",
    "          a = {}, b = {}, c = {}\".format(A_2, B, C_2, a_2, b, c))"
   ]
  },
  {
   "cell_type": "markdown",
   "metadata": {},
   "source": [
    "## This is apparently, not correct. \n",
    "\n",
    "So, we will consolodate the pipeline into a single cell calculation to verify accuracy. "
   ]
  },
  {
   "cell_type": "code",
   "execution_count": 81,
   "metadata": {},
   "outputs": [
    {
     "name": "stdout",
     "output_type": "stream",
     "text": [
      "Sin_B = 0.707106781187\n",
      "Sin_C_1 = 0.808122035642\n",
      "C_1 = 46.3019819738\n",
      "C_2 = 126.087147066\n",
      "A_1 = 81.0871470657\n",
      "A_2 = 8.91285293427\n",
      "Triangle 1: \n",
      " A_1 = 81.08714706573124, C_1 = 53.91285293426875 \n",
      "\n",
      "Triangle 2: \n",
      " A_2 = 8.912852934268756, C_2 = 126.08714706573124\n",
      "a_1 = 48.8997993756\n",
      "a_2 = 7.66874311937\n",
      "T1 Acute: A = 81.08714706573124, B = 45, C = 53.91285293426875, \n",
      "          a = 48.899799375550195, b = 35, c = 40\n",
      "T2 Obtuse: A = 8.912852934268756, B = 45, C = 126.08714706573124, \n",
      "           a = 7.668743119373605, b = 35, c = 40\n"
     ]
    }
   ],
   "source": [
    "import numpy as np \n",
    "\n",
    "# Given Values\n",
    "B = 45 #deg\n",
    "b = 35\n",
    "c = 40\n",
    "\n",
    "\n",
    "# Find sin B.\n",
    "Sin_B = np.sin(B * np.pi / 180)\n",
    "print(\"Sin_B =\", Sin_B)\n",
    "\n",
    "# Find sin C.\n",
    "Sin_C_1 = c * Sin_B / b\n",
    "print(\"Sin_C_1 =\", Sin_C)\n",
    "\n",
    "# Find angle C.\n",
    "C_1_rad = np.arcsin(Sin_C_1) # Note: output in in rad. \n",
    "\n",
    "# Convert rad to deg\n",
    "C_1 = np.rad2deg(C_1_rad) #deg\n",
    "print(\"C_1 =\", C)\n",
    "\n",
    "\n",
    "\n",
    "C_2 = 180 - C_1\n",
    "print(\"C_2 =\", C_2)\n",
    "\n",
    "\n",
    "\n",
    "A_1 = 180 - B - C_1\n",
    "print(\"A_1 =\", A_1)\n",
    "\n",
    "A_2 = 180 - B - C_2\n",
    "print(\"A_2 =\", A_2)\n",
    "\n",
    "\n",
    "# We Have Solved the angles for both triangles as follows. \n",
    "\n",
    "# Triangle 1: Acute\n",
    "print(\"Triangle 1: \\n A_1 = {}, C_1 = {} \\n\".format(A_1, C_1))\n",
    "\n",
    "# Triangle 2: Obtuse\n",
    "print(\"Triangle 2: \\n A_2 = {}, C_2 = {}\".format(A_2, C_2))\n",
    "\n",
    "\n",
    "# Find missing sides for respective T's. \n",
    "a_1 = b * np.sin(A_1 * np.pi / 180) / np.sin(B * np.pi /180)#input must be in rad. \n",
    "print(\"a_1 =\", a_1)\n",
    "\n",
    "a_2 = b * np.sin(A_2 * np.pi /180) / np.sin(B * np.pi / 180)\n",
    "print(\"a_2 =\", a_2)\n",
    "\n",
    "\n",
    "# Print Complete Values. \n",
    "\n",
    "# T1: Acute\n",
    "print(\"T1 Acute: A = {}, B = {}, C = {}, \\n \\\n",
    "         a = {}, b = {}, c = {}\".format(A_1, B, C_1, a_1, b, c))\n",
    "\n",
    "# T2: Obtuse\n",
    "print(\"T2 Obtuse: A = {}, B = {}, C = {}, \\n \\\n",
    "          a = {}, b = {}, c = {}\".format(A_2, B, C_2, a_2, b, c))"
   ]
  },
  {
   "cell_type": "markdown",
   "metadata": {},
   "source": [
    "### ERRORS\n",
    "\n",
    "Sidelength a_1 = 34 != 48.9 \n",
    "Sidelength a_2 = 5.4 != 7.7 \n",
    "\n",
    "NOTE: Corrected. Forgot the rest of the equation for sidelengths. It helps to divide by the rest of the formula. Dickshit. "
   ]
  },
  {
   "cell_type": "code",
   "execution_count": 84,
   "metadata": {},
   "outputs": [
    {
     "name": "stdout",
     "output_type": "stream",
     "text": [
      "T1 Acute: A = 136.47981352934116, B = 34, C = 9.520186470658835, \n",
      "          a = 8.743193376264692, b = 7.1, c = 2.1\n",
      "T2 Obtuse: A = -24.479813529341158, B = 34, C = 170.47981352934116, \n",
      "           a = -5.261235571533512, b = 7.1, c = 2.1\n"
     ]
    }
   ],
   "source": [
    "# Now we have a calculator for this SSA problem. \n",
    "import numpy as np \n",
    "\n",
    "# Given Values\n",
    "B = 34 #deg\n",
    "b = 7.1\n",
    "c = 2.1\n",
    "\n",
    "\n",
    "# Find sin B.\n",
    "Sin_B = np.sin(B * np.pi / 180)\n",
    "\n",
    "# Find sin C.\n",
    "Sin_C_1 = c * Sin_B / b\n",
    "\n",
    "# Find angle C.\n",
    "C_1_rad = np.arcsin(Sin_C_1) # Note: output in in rad. \n",
    "\n",
    "# Convert rad to deg\n",
    "C_1 = np.rad2deg(C_1_rad) #deg\n",
    "\n",
    "C_2 = 180 - C_1\n",
    "\n",
    "A_1 = 180 - B - C_1\n",
    "\n",
    "A_2 = 180 - B - C_2\n",
    "\n",
    "# Find missing sides for respective T's. \n",
    "a_1 = b * np.sin(A_1 * np.pi / 180) / np.sin(B * np.pi /180)#input must be in rad. \n",
    "\n",
    "a_2 = b * np.sin(A_2 * np.pi /180) / np.sin(B * np.pi / 180)\n",
    "\n",
    "\n",
    "# Print Complete Values. \n",
    "\n",
    "# T1: Acute\n",
    "print(\"T1 Acute: A = {}, B = {}, C = {}, \\n \\\n",
    "         a = {}, b = {}, c = {}\".format(A_1, B, C_1, a_1, b, c))\n",
    "\n",
    "# T2: Obtuse\n",
    "print(\"T2 Obtuse: A = {}, B = {}, C = {}, \\n \\\n",
    "          a = {}, b = {}, c = {}\".format(A_2, B, C_2, a_2, b, c))\n"
   ]
  },
  {
   "cell_type": "code",
   "execution_count": null,
   "metadata": {
    "collapsed": true
   },
   "outputs": [],
   "source": []
  }
 ],
 "metadata": {
  "kernelspec": {
   "display_name": "Python 3",
   "language": "python",
   "name": "python3"
  },
  "language_info": {
   "codemirror_mode": {
    "name": "ipython",
    "version": 3
   },
   "file_extension": ".py",
   "mimetype": "text/x-python",
   "name": "python",
   "nbconvert_exporter": "python",
   "pygments_lexer": "ipython3",
   "version": "3.5.3"
  }
 },
 "nbformat": 4,
 "nbformat_minor": 2
}
